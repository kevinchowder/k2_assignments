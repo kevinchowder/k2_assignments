{
 "cells": [
  {
   "cell_type": "markdown",
   "metadata": {},
   "source": [
    "## Pig Latin Translator"
   ]
  },
  {
   "cell_type": "code",
   "execution_count": 2,
   "metadata": {
    "collapsed": false
   },
   "outputs": [
    {
     "name": "stdout",
     "output_type": "stream",
     "text": [
      "Please enter your word: toodles\n",
      "oodlestay\n"
     ]
    }
   ],
   "source": [
    "vowels = ['a','e','i','o','u'] \n",
    "\n",
    "word = input(\"Please enter your word: \") # prompts user for a word\n",
    "word = word.lower() # converts to all lowercase\n",
    "\n",
    "# returns index of first vowel in string\n",
    "def findfirstvowel(string):\n",
    "    index = 0\n",
    "    \n",
    "    while index < len(string):\n",
    "        if string[index] in vowels:\n",
    "            return index\n",
    "        else:\n",
    "            index = index + 1\n",
    "\n",
    "# takes word and appends \"way\" if the word starts with a vowel, or \"ay\" if a consonant and prints result           \n",
    "def piglatinize(string):\n",
    "    if findfirstvowel(string) == 0:\n",
    "        newword = string[:] + \"way\"\n",
    "        print(newword)\n",
    "    else:\n",
    "        newword = string[findfirstvowel(string):len(string)] + string[:findfirstvowel(string)] + \"ay\"\n",
    "        print(newword)\n",
    "        \n",
    "piglatinize(word)"
   ]
  },
  {
   "cell_type": "code",
   "execution_count": null,
   "metadata": {
    "collapsed": true
   },
   "outputs": [],
   "source": []
  }
 ],
 "metadata": {
  "anaconda-cloud": {},
  "kernelspec": {
   "display_name": "Python [default]",
   "language": "python",
   "name": "python3"
  },
  "language_info": {
   "codemirror_mode": {
    "name": "ipython",
    "version": 3
   },
   "file_extension": ".py",
   "mimetype": "text/x-python",
   "name": "python",
   "nbconvert_exporter": "python",
   "pygments_lexer": "ipython3",
   "version": "3.5.2"
  }
 },
 "nbformat": 4,
 "nbformat_minor": 1
}
