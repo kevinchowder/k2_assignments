{
 "cells": [
  {
   "cell_type": "markdown",
   "metadata": {},
   "source": [
    "# Exercises"
   ]
  },
  {
   "cell_type": "code",
   "execution_count": 50,
   "metadata": {
    "collapsed": false
   },
   "outputs": [
    {
     "data": {
      "text/plain": [
       "id               int64\n",
       "name            object\n",
       "nationality     object\n",
       "sex             object\n",
       "dob             object\n",
       "height         float64\n",
       "weight         float64\n",
       "sport           object\n",
       "gold             int64\n",
       "silver           int64\n",
       "bronze           int64\n",
       "dtype: object"
      ]
     },
     "execution_count": 50,
     "metadata": {},
     "output_type": "execute_result"
    }
   ],
   "source": [
    "import pandas as pd\n",
    "import matplotlib.pyplot as plt\n",
    "import math\n",
    "from scipy import stats\n",
    "import numpy as np\n",
    "%matplotlib inline\n",
    "\n",
    "olympicsdata = pd.read_csv('athletes.csv')\n",
    "\n",
    "olympicsdata.dtypes"
   ]
  },
  {
   "cell_type": "markdown",
   "metadata": {},
   "source": [
    "## 1. What was the average age in male and female athletes?"
   ]
  },
  {
   "cell_type": "code",
   "execution_count": 51,
   "metadata": {
    "collapsed": false
   },
   "outputs": [
    {
     "data": {
      "text/plain": [
       "sex\n",
       "female    26.625928\n",
       "male      27.258496\n",
       "Name: age, dtype: float64"
      ]
     },
     "execution_count": 51,
     "metadata": {},
     "output_type": "execute_result"
    }
   ],
   "source": [
    "from datetime import datetime, timedelta\n",
    "olympicsdata['dob'] = pd.to_datetime(olympicsdata['dob'])\n",
    "olympicsdata['age'] = (datetime.today() - olympicsdata['dob'])/timedelta(365)\n",
    "pd.pivot_table(olympicsdata,\n",
    "    values= 'age',\n",
    "    columns=['sex'])"
   ]
  },
  {
   "cell_type": "markdown",
   "metadata": {},
   "source": [
    "## 2. What are the most common Dates of Birth?"
   ]
  },
  {
   "cell_type": "code",
   "execution_count": 3,
   "metadata": {
    "collapsed": false
   },
   "outputs": [
    {
     "data": {
      "text/plain": [
       "1988-03-05    9\n",
       "1990-12-20    9\n",
       "1993-02-18    9\n",
       "1988-04-03    8\n",
       "1991-06-19    8\n",
       "1989-12-14    8\n",
       "1993-07-30    8\n",
       "1990-05-02    8\n",
       "1993-03-03    8\n",
       "1989-03-01    8\n",
       "1988-04-29    8\n",
       "1989-06-09    8\n",
       "1990-03-14    7\n",
       "1994-10-25    7\n",
       "1994-08-19    7\n",
       "1991-08-18    7\n",
       "1991-02-08    7\n",
       "1991-04-16    7\n",
       "1990-07-11    7\n",
       "1993-03-29    7\n",
       "1988-03-22    7\n",
       "1988-06-05    7\n",
       "1988-02-22    7\n",
       "1988-08-08    7\n",
       "1993-05-11    7\n",
       "1991-01-28    7\n",
       "1992-01-10    7\n",
       "1994-03-07    7\n",
       "1989-01-04    7\n",
       "1988-07-21    7\n",
       "             ..\n",
       "1986-07-25    1\n",
       "1978-07-28    1\n",
       "1997-05-23    1\n",
       "1984-05-02    1\n",
       "1996-04-19    1\n",
       "1982-05-10    1\n",
       "1987-09-02    1\n",
       "1995-07-16    1\n",
       "1994-08-09    1\n",
       "1995-09-04    1\n",
       "1996-08-21    1\n",
       "1998-03-03    1\n",
       "1992-09-03    1\n",
       "1997-08-05    1\n",
       "1993-07-21    1\n",
       "1984-08-14    1\n",
       "1987-03-02    1\n",
       "1997-03-27    1\n",
       "1981-04-02    1\n",
       "1991-11-10    1\n",
       "2063-11-20    1\n",
       "1982-08-07    1\n",
       "1987-06-24    1\n",
       "1994-09-04    1\n",
       "1992-05-23    1\n",
       "1980-12-22    1\n",
       "1988-02-09    1\n",
       "1982-02-18    1\n",
       "1986-08-14    1\n",
       "1973-06-05    1\n",
       "Name: dob, dtype: int64"
      ]
     },
     "execution_count": 3,
     "metadata": {},
     "output_type": "execute_result"
    }
   ],
   "source": [
    "olympicsdata['dob'].value_counts()"
   ]
  },
  {
   "cell_type": "markdown",
   "metadata": {},
   "source": [
    "## 3. How about the most common birthdays?"
   ]
  },
  {
   "cell_type": "code",
   "execution_count": 4,
   "metadata": {
    "collapsed": false
   },
   "outputs": [
    {
     "data": {
      "text/plain": [
       "Jan-01    58\n",
       "Feb-05    51\n",
       "Feb-10    48\n",
       "Jan-10    47\n",
       "Sep-19    47\n",
       "Jan-20    47\n",
       "Apr-05    46\n",
       "Mar-05    45\n",
       "Mar-08    44\n",
       "Apr-29    44\n",
       "Jan-13    44\n",
       "Apr-30    44\n",
       "May-02    43\n",
       "Jul-12    43\n",
       "Feb-14    43\n",
       "Sep-30    43\n",
       "May-26    42\n",
       "Sep-18    42\n",
       "Mar-11    42\n",
       "Jan-07    42\n",
       "May-15    42\n",
       "Jul-17    41\n",
       "Sep-29    41\n",
       "Feb-01    41\n",
       "Aug-03    41\n",
       "Mar-29    41\n",
       "Mar-12    41\n",
       "Dec-14    40\n",
       "Jul-16    40\n",
       "Nov-20    40\n",
       "          ..\n",
       "Dec-25    23\n",
       "Jan-22    22\n",
       "Dec-22    22\n",
       "Oct-03    22\n",
       "Jul-29    22\n",
       "Jul-14    22\n",
       "Oct-31    22\n",
       "Nov-06    22\n",
       "Aug-12    22\n",
       "Nov-01    22\n",
       "Oct-19    22\n",
       "Jan-14    22\n",
       "Jun-18    22\n",
       "Apr-06    21\n",
       "Dec-16    21\n",
       "May-13    21\n",
       "Dec-23    21\n",
       "Dec-07    21\n",
       "Dec-26    21\n",
       "Mar-31    20\n",
       "Dec-04    20\n",
       "Feb-11    20\n",
       "Nov-27    18\n",
       "Aug-14    18\n",
       "Aug-28    17\n",
       "Oct-13    17\n",
       "Sep-03    16\n",
       "Oct-29    12\n",
       "Feb-29     5\n",
       "           1\n",
       "Name: mnth_day, dtype: int64"
      ]
     },
     "execution_count": 4,
     "metadata": {},
     "output_type": "execute_result"
    }
   ],
   "source": [
    "import time\n",
    "olympicsdata['mnth_day'] = olympicsdata['dob'].apply(\n",
    "    lambda x: x.strftime('%b-%d') if not pd.isnull(x) else '')\n",
    "olympicsdata['mnth_day'].value_counts()"
   ]
  },
  {
   "cell_type": "markdown",
   "metadata": {},
   "source": [
    "## 4. What are the Countries with more than 100 medals?"
   ]
  },
  {
   "cell_type": "code",
   "execution_count": 5,
   "metadata": {
    "collapsed": false
   },
   "outputs": [
    {
     "data": {
      "text/html": [
       "<div>\n",
       "<table border=\"1\" class=\"dataframe\">\n",
       "  <thead>\n",
       "    <tr style=\"text-align: right;\">\n",
       "      <th></th>\n",
       "      <th>nationality</th>\n",
       "      <th>totalmedals</th>\n",
       "    </tr>\n",
       "  </thead>\n",
       "  <tbody>\n",
       "    <tr>\n",
       "      <th>38</th>\n",
       "      <td>CHN</td>\n",
       "      <td>113</td>\n",
       "    </tr>\n",
       "    <tr>\n",
       "      <th>68</th>\n",
       "      <td>GBR</td>\n",
       "      <td>145</td>\n",
       "    </tr>\n",
       "    <tr>\n",
       "      <th>72</th>\n",
       "      <td>GER</td>\n",
       "      <td>160</td>\n",
       "    </tr>\n",
       "    <tr>\n",
       "      <th>159</th>\n",
       "      <td>RUS</td>\n",
       "      <td>115</td>\n",
       "    </tr>\n",
       "    <tr>\n",
       "      <th>198</th>\n",
       "      <td>USA</td>\n",
       "      <td>264</td>\n",
       "    </tr>\n",
       "  </tbody>\n",
       "</table>\n",
       "</div>"
      ],
      "text/plain": [
       "    nationality  totalmedals\n",
       "38          CHN          113\n",
       "68          GBR          145\n",
       "72          GER          160\n",
       "159         RUS          115\n",
       "198         USA          264"
      ]
     },
     "execution_count": 5,
     "metadata": {},
     "output_type": "execute_result"
    }
   ],
   "source": [
    "medalsdata = pd.melt(olympicsdata, id_vars = 'nationality'\n",
    "                 ,value_vars = ['gold','silver','bronze'],\n",
    "                 value_name='totalmedals',\n",
    "                 var_name='medal')\n",
    "totalmedals = medalsdata.groupby('nationality')['totalmedals'].sum().reset_index()\n",
    "totalmedals.sort_values(by='nationality',ascending=False)\n",
    "topcountries = totalmedals[totalmedals['totalmedals']>100]\n",
    "topcountries"
   ]
  },
  {
   "cell_type": "markdown",
   "metadata": {},
   "source": [
    "## 5. Create a bar or pie chart for the results of the previous exercise."
   ]
  },
  {
   "cell_type": "code",
   "execution_count": 6,
   "metadata": {
    "collapsed": false
   },
   "outputs": [
    {
     "data": {
      "text/plain": [
       "<matplotlib.axes._subplots.AxesSubplot at 0x1196ef128>"
      ]
     },
     "execution_count": 6,
     "metadata": {},
     "output_type": "execute_result"
    },
    {
     "data": {
      "image/png": "[encoded data removed]",
      "text/plain": [
       "<matplotlib.figure.Figure at 0x107cd8208>"
      ]
     },
     "metadata": {},
     "output_type": "display_data"
    }
   ],
   "source": [
    "topcountries['totalmedals'].plot.pie(labels=['China', 'Great Britain', 'Germany', 'Russia','United States'],\n",
    "                                     colors=['r', 'g', 'b', 'c','m'],\n",
    "                                     autopct='%.2f', fontsize=20, figsize=(6, 6))"
   ]
  },
  {
   "cell_type": "markdown",
   "metadata": {},
   "source": [
    "## 6. Male weightlifting competitions are divided into 8 weight classes. Can you estimate these weight classes by looking at the data? Hint: Create a scatter plot with Body weight on the x-axis and choose height as y."
   ]
  },
  {
   "cell_type": "code",
   "execution_count": 8,
   "metadata": {
    "collapsed": false
   },
   "outputs": [
    {
     "data": {
      "image/png": "[encoded data removed]",
      "text/plain": [
       "<matplotlib.figure.Figure at 0x119680470>"
      ]
     },
     "metadata": {},
     "output_type": "display_data"
    }
   ],
   "source": [
    "malelifters = olympicsdata[(olympicsdata['sex']=='male')\n",
    "                           & (olympicsdata['sport']=='weightlifting')]\n",
    "\n",
    "weight = malelifters['weight']\n",
    "height = malelifters['height']\n",
    "\n",
    "plt.plot(weight,height, 'ro')\n",
    "plt.xlabel(\"weight (kg)\")\n",
    "plt.ylabel(\"height (m)\")\n",
    "\n",
    "plt.savefig('weighlifters.png')\n",
    "plt.show()"
   ]
  },
  {
   "cell_type": "markdown",
   "metadata": {},
   "source": [
    "## 7. Generate a histogram of male and female height distribution among all participants."
   ]
  },
  {
   "cell_type": "code",
   "execution_count": 38,
   "metadata": {
    "collapsed": false
   },
   "outputs": [
    {
     "data": {
      "text/plain": [
       "<function matplotlib.pyplot.show>"
      ]
     },
     "execution_count": 38,
     "metadata": {},
     "output_type": "execute_result"
    },
    {
     "data": {
      "image/png": "[encoded data removed]",
      "text/plain": [
       "<matplotlib.figure.Figure at 0x11e72fda0>"
      ]
     },
     "metadata": {},
     "output_type": "display_data"
    },
    {
     "data": {
      "image/png": "[encoded data removed]",
      "text/plain": [
       "<matplotlib.figure.Figure at 0x119765240>"
      ]
     },
     "metadata": {},
     "output_type": "display_data"
    }
   ],
   "source": [
    "heights = olympicsdata[['sex','height']].dropna()\n",
    "females = heights[(heights['sex']=='female')]\n",
    "males = heights[(heights['sex']=='male')]\n",
    "\n",
    "bins = np.linspace(1.1,2.7,40)\n",
    "\n",
    "\n",
    "ax = females.hist(bins=bins, figsize = (8,4))\n",
    "ax = males.hist(bins=bins, figsize=(8,4))\n",
    "plt.show"
   ]
  },
  {
   "cell_type": "markdown",
   "metadata": {},
   "source": [
    "## 8. Using the Seaborn package create a box plot for male and female height distribution among all participants."
   ]
  },
  {
   "cell_type": "code",
   "execution_count": 39,
   "metadata": {
    "collapsed": false
   },
   "outputs": [
    {
     "data": {
      "image/png": "[encoded data removed]",
      "text/plain": [
       "<matplotlib.figure.Figure at 0x11974a320>"
      ]
     },
     "metadata": {},
     "output_type": "display_data"
    }
   ],
   "source": [
    "import seaborn as sns\n",
    "sns.set_style('whitegrid')\n",
    "ax = sns.boxplot(x='sex',y='height',data=heights)"
   ]
  },
  {
   "cell_type": "markdown",
   "metadata": {},
   "source": [
    "## 9. Create a world map for countries and their respective amount of medals in Carto. [Carto](http://carto.com) provides a quick and easy way to create maps. For this you will also need to use 'countries.csv'."
   ]
  },
  {
   "cell_type": "code",
   "execution_count": 44,
   "metadata": {
    "collapsed": false
   },
   "outputs": [
    {
     "data": {
      "text/html": [
       "<div>\n",
       "<table border=\"1\" class=\"dataframe\">\n",
       "  <thead>\n",
       "    <tr style=\"text-align: right;\">\n",
       "      <th></th>\n",
       "      <th>country</th>\n",
       "      <th>nationality</th>\n",
       "    </tr>\n",
       "  </thead>\n",
       "  <tbody>\n",
       "    <tr>\n",
       "      <th>0</th>\n",
       "      <td>Afghanistan</td>\n",
       "      <td>AFG</td>\n",
       "    </tr>\n",
       "    <tr>\n",
       "      <th>1</th>\n",
       "      <td>Albania</td>\n",
       "      <td>ALB</td>\n",
       "    </tr>\n",
       "    <tr>\n",
       "      <th>2</th>\n",
       "      <td>Algeria</td>\n",
       "      <td>ALG</td>\n",
       "    </tr>\n",
       "    <tr>\n",
       "      <th>3</th>\n",
       "      <td>American Samoa*</td>\n",
       "      <td>ASA</td>\n",
       "    </tr>\n",
       "    <tr>\n",
       "      <th>4</th>\n",
       "      <td>Andorra</td>\n",
       "      <td>AND</td>\n",
       "    </tr>\n",
       "  </tbody>\n",
       "</table>\n",
       "</div>"
      ],
      "text/plain": [
       "           country nationality\n",
       "0      Afghanistan         AFG\n",
       "1          Albania         ALB\n",
       "2          Algeria         ALG\n",
       "3  American Samoa*         ASA\n",
       "4          Andorra         AND"
      ]
     },
     "execution_count": 44,
     "metadata": {},
     "output_type": "execute_result"
    }
   ],
   "source": [
    "countrydata = pd.read_csv('countries.csv')\n",
    "countrydata.columns = ['country','nationality']\n",
    "countrydata.head()\n",
    "\n"
   ]
  },
  {
   "cell_type": "code",
   "execution_count": 45,
   "metadata": {
    "collapsed": false
   },
   "outputs": [
    {
     "data": {
      "text/html": [
       "<div>\n",
       "<table border=\"1\" class=\"dataframe\">\n",
       "  <thead>\n",
       "    <tr style=\"text-align: right;\">\n",
       "      <th></th>\n",
       "      <th>nationality</th>\n",
       "      <th>totalmedals</th>\n",
       "      <th>country</th>\n",
       "    </tr>\n",
       "  </thead>\n",
       "  <tbody>\n",
       "    <tr>\n",
       "      <th>0</th>\n",
       "      <td>ALG</td>\n",
       "      <td>2</td>\n",
       "      <td>Algeria</td>\n",
       "    </tr>\n",
       "    <tr>\n",
       "      <th>1</th>\n",
       "      <td>ARG</td>\n",
       "      <td>22</td>\n",
       "      <td>Argentina</td>\n",
       "    </tr>\n",
       "    <tr>\n",
       "      <th>2</th>\n",
       "      <td>ARM</td>\n",
       "      <td>4</td>\n",
       "      <td>Armenia</td>\n",
       "    </tr>\n",
       "    <tr>\n",
       "      <th>3</th>\n",
       "      <td>AUS</td>\n",
       "      <td>82</td>\n",
       "      <td>Australia</td>\n",
       "    </tr>\n",
       "    <tr>\n",
       "      <th>4</th>\n",
       "      <td>AUT</td>\n",
       "      <td>2</td>\n",
       "      <td>Austria</td>\n",
       "    </tr>\n",
       "  </tbody>\n",
       "</table>\n",
       "</div>"
      ],
      "text/plain": [
       "  nationality  totalmedals    country\n",
       "0         ALG            2    Algeria\n",
       "1         ARG           22  Argentina\n",
       "2         ARM            4    Armenia\n",
       "3         AUS           82  Australia\n",
       "4         AUT            2    Austria"
      ]
     },
     "execution_count": 45,
     "metadata": {},
     "output_type": "execute_result"
    }
   ],
   "source": [
    "countrieswithmedals = totalmedals[totalmedals['totalmedals']>0]\n",
    "countrieswithmedals = countrieswithmedals.merge(countrydata,how='left',on='nationality')\n",
    "countrieswithmedals.head()"
   ]
  },
  {
   "cell_type": "code",
   "execution_count": 46,
   "metadata": {
    "collapsed": true
   },
   "outputs": [],
   "source": [
    "countrieswithmedals.to_csv('medals.csv')"
   ]
  },
  {
   "cell_type": "markdown",
   "metadata": {},
   "source": [
    "https://kevinchowder.carto.com/builder/23d05596-02f8-11e7-b5b5-0e3a376473ab/embed"
   ]
  },
  {
   "cell_type": "markdown",
   "metadata": {},
   "source": [
    "## 10. _Optional_: What else would you try?"
   ]
  },
  {
   "cell_type": "code",
   "execution_count": 55,
   "metadata": {
    "collapsed": false
   },
   "outputs": [
    {
     "data": {
      "text/plain": [
       "sport\n",
       "aquatics             24.019148\n",
       "archery              25.494490\n",
       "athletics            26.925997\n",
       "badminton            27.623257\n",
       "basketball           28.219148\n",
       "boxing               25.682161\n",
       "canoe                27.805449\n",
       "cycling              27.668463\n",
       "equestrian           34.156134\n",
       "fencing              28.212298\n",
       "football             23.635586\n",
       "golf                 29.619148\n",
       "gymnastics           22.531476\n",
       "handball             28.361613\n",
       "hockey               27.098600\n",
       "judo                 26.762983\n",
       "modern pentathlon    26.224627\n",
       "rowing               27.575312\n",
       "rugby sevens         27.013668\n",
       "sailing              27.865723\n",
       "shooting             30.401339\n",
       "table tennis         27.735586\n",
       "taekwondo            24.764353\n",
       "tennis               28.971202\n",
       "triathlon            28.442435\n",
       "volleyball           28.205449\n",
       "weightlifting        25.341065\n",
       "wrestling            27.312298\n",
       "Name: age, dtype: float64"
      ]
     },
     "execution_count": 55,
     "metadata": {},
     "output_type": "execute_result"
    }
   ],
   "source": [
    "pd.pivot_table(olympicsdata,\n",
    "               aggfunc=np.median,\n",
    "               values= 'age',\n",
    "               columns=['sport'])"
   ]
  },
  {
   "cell_type": "code",
   "execution_count": 65,
   "metadata": {
    "collapsed": false
   },
   "outputs": [
    {
     "data": {
      "text/html": [
       "<div>\n",
       "<table border=\"1\" class=\"dataframe\">\n",
       "  <thead>\n",
       "    <tr style=\"text-align: right;\">\n",
       "      <th>col_0</th>\n",
       "      <th>age</th>\n",
       "    </tr>\n",
       "    <tr>\n",
       "      <th>row_0</th>\n",
       "      <th></th>\n",
       "    </tr>\n",
       "  </thead>\n",
       "  <tbody>\n",
       "    <tr>\n",
       "      <th>1</th>\n",
       "      <td>1</td>\n",
       "    </tr>\n",
       "    <tr>\n",
       "      <th>2</th>\n",
       "      <td>1</td>\n",
       "    </tr>\n",
       "    <tr>\n",
       "      <th>3</th>\n",
       "      <td>1</td>\n",
       "    </tr>\n",
       "    <tr>\n",
       "      <th>4</th>\n",
       "      <td>1</td>\n",
       "    </tr>\n",
       "    <tr>\n",
       "      <th>5</th>\n",
       "      <td>1</td>\n",
       "    </tr>\n",
       "    <tr>\n",
       "      <th>6</th>\n",
       "      <td>1</td>\n",
       "    </tr>\n",
       "    <tr>\n",
       "      <th>7</th>\n",
       "      <td>1</td>\n",
       "    </tr>\n",
       "    <tr>\n",
       "      <th>8</th>\n",
       "      <td>1</td>\n",
       "    </tr>\n",
       "    <tr>\n",
       "      <th>9</th>\n",
       "      <td>1</td>\n",
       "    </tr>\n",
       "    <tr>\n",
       "      <th>10</th>\n",
       "      <td>1</td>\n",
       "    </tr>\n",
       "    <tr>\n",
       "      <th>11</th>\n",
       "      <td>1</td>\n",
       "    </tr>\n",
       "    <tr>\n",
       "      <th>12</th>\n",
       "      <td>1</td>\n",
       "    </tr>\n",
       "    <tr>\n",
       "      <th>13</th>\n",
       "      <td>1</td>\n",
       "    </tr>\n",
       "    <tr>\n",
       "      <th>14</th>\n",
       "      <td>1</td>\n",
       "    </tr>\n",
       "    <tr>\n",
       "      <th>15</th>\n",
       "      <td>1</td>\n",
       "    </tr>\n",
       "    <tr>\n",
       "      <th>16</th>\n",
       "      <td>1</td>\n",
       "    </tr>\n",
       "    <tr>\n",
       "      <th>17</th>\n",
       "      <td>1</td>\n",
       "    </tr>\n",
       "    <tr>\n",
       "      <th>18</th>\n",
       "      <td>1</td>\n",
       "    </tr>\n",
       "    <tr>\n",
       "      <th>19</th>\n",
       "      <td>1</td>\n",
       "    </tr>\n",
       "    <tr>\n",
       "      <th>20</th>\n",
       "      <td>1</td>\n",
       "    </tr>\n",
       "    <tr>\n",
       "      <th>21</th>\n",
       "      <td>1</td>\n",
       "    </tr>\n",
       "    <tr>\n",
       "      <th>22</th>\n",
       "      <td>1</td>\n",
       "    </tr>\n",
       "    <tr>\n",
       "      <th>23</th>\n",
       "      <td>1</td>\n",
       "    </tr>\n",
       "    <tr>\n",
       "      <th>24</th>\n",
       "      <td>1</td>\n",
       "    </tr>\n",
       "    <tr>\n",
       "      <th>25</th>\n",
       "      <td>1</td>\n",
       "    </tr>\n",
       "    <tr>\n",
       "      <th>26</th>\n",
       "      <td>1</td>\n",
       "    </tr>\n",
       "    <tr>\n",
       "      <th>27</th>\n",
       "      <td>1</td>\n",
       "    </tr>\n",
       "    <tr>\n",
       "      <th>28</th>\n",
       "      <td>1</td>\n",
       "    </tr>\n",
       "    <tr>\n",
       "      <th>29</th>\n",
       "      <td>1</td>\n",
       "    </tr>\n",
       "    <tr>\n",
       "      <th>30</th>\n",
       "      <td>1</td>\n",
       "    </tr>\n",
       "    <tr>\n",
       "      <th>...</th>\n",
       "      <td>...</td>\n",
       "    </tr>\n",
       "    <tr>\n",
       "      <th>70</th>\n",
       "      <td>1</td>\n",
       "    </tr>\n",
       "    <tr>\n",
       "      <th>71</th>\n",
       "      <td>1</td>\n",
       "    </tr>\n",
       "    <tr>\n",
       "      <th>72</th>\n",
       "      <td>1</td>\n",
       "    </tr>\n",
       "    <tr>\n",
       "      <th>73</th>\n",
       "      <td>1</td>\n",
       "    </tr>\n",
       "    <tr>\n",
       "      <th>74</th>\n",
       "      <td>1</td>\n",
       "    </tr>\n",
       "    <tr>\n",
       "      <th>75</th>\n",
       "      <td>1</td>\n",
       "    </tr>\n",
       "    <tr>\n",
       "      <th>76</th>\n",
       "      <td>1</td>\n",
       "    </tr>\n",
       "    <tr>\n",
       "      <th>77</th>\n",
       "      <td>1</td>\n",
       "    </tr>\n",
       "    <tr>\n",
       "      <th>78</th>\n",
       "      <td>1</td>\n",
       "    </tr>\n",
       "    <tr>\n",
       "      <th>79</th>\n",
       "      <td>1</td>\n",
       "    </tr>\n",
       "    <tr>\n",
       "      <th>80</th>\n",
       "      <td>1</td>\n",
       "    </tr>\n",
       "    <tr>\n",
       "      <th>81</th>\n",
       "      <td>1</td>\n",
       "    </tr>\n",
       "    <tr>\n",
       "      <th>82</th>\n",
       "      <td>1</td>\n",
       "    </tr>\n",
       "    <tr>\n",
       "      <th>83</th>\n",
       "      <td>1</td>\n",
       "    </tr>\n",
       "    <tr>\n",
       "      <th>84</th>\n",
       "      <td>1</td>\n",
       "    </tr>\n",
       "    <tr>\n",
       "      <th>85</th>\n",
       "      <td>1</td>\n",
       "    </tr>\n",
       "    <tr>\n",
       "      <th>86</th>\n",
       "      <td>1</td>\n",
       "    </tr>\n",
       "    <tr>\n",
       "      <th>87</th>\n",
       "      <td>1</td>\n",
       "    </tr>\n",
       "    <tr>\n",
       "      <th>88</th>\n",
       "      <td>1</td>\n",
       "    </tr>\n",
       "    <tr>\n",
       "      <th>89</th>\n",
       "      <td>1</td>\n",
       "    </tr>\n",
       "    <tr>\n",
       "      <th>90</th>\n",
       "      <td>1</td>\n",
       "    </tr>\n",
       "    <tr>\n",
       "      <th>91</th>\n",
       "      <td>1</td>\n",
       "    </tr>\n",
       "    <tr>\n",
       "      <th>92</th>\n",
       "      <td>1</td>\n",
       "    </tr>\n",
       "    <tr>\n",
       "      <th>93</th>\n",
       "      <td>1</td>\n",
       "    </tr>\n",
       "    <tr>\n",
       "      <th>94</th>\n",
       "      <td>1</td>\n",
       "    </tr>\n",
       "    <tr>\n",
       "      <th>95</th>\n",
       "      <td>1</td>\n",
       "    </tr>\n",
       "    <tr>\n",
       "      <th>96</th>\n",
       "      <td>1</td>\n",
       "    </tr>\n",
       "    <tr>\n",
       "      <th>97</th>\n",
       "      <td>1</td>\n",
       "    </tr>\n",
       "    <tr>\n",
       "      <th>98</th>\n",
       "      <td>1</td>\n",
       "    </tr>\n",
       "    <tr>\n",
       "      <th>99</th>\n",
       "      <td>1</td>\n",
       "    </tr>\n",
       "  </tbody>\n",
       "</table>\n",
       "<p>99 rows × 1 columns</p>\n",
       "</div>"
      ],
      "text/plain": [
       "col_0  age\n",
       "row_0     \n",
       "1        1\n",
       "2        1\n",
       "3        1\n",
       "4        1\n",
       "5        1\n",
       "6        1\n",
       "7        1\n",
       "8        1\n",
       "9        1\n",
       "10       1\n",
       "11       1\n",
       "12       1\n",
       "13       1\n",
       "14       1\n",
       "15       1\n",
       "16       1\n",
       "17       1\n",
       "18       1\n",
       "19       1\n",
       "20       1\n",
       "21       1\n",
       "22       1\n",
       "23       1\n",
       "24       1\n",
       "25       1\n",
       "26       1\n",
       "27       1\n",
       "28       1\n",
       "29       1\n",
       "30       1\n",
       "...    ...\n",
       "70       1\n",
       "71       1\n",
       "72       1\n",
       "73       1\n",
       "74       1\n",
       "75       1\n",
       "76       1\n",
       "77       1\n",
       "78       1\n",
       "79       1\n",
       "80       1\n",
       "81       1\n",
       "82       1\n",
       "83       1\n",
       "84       1\n",
       "85       1\n",
       "86       1\n",
       "87       1\n",
       "88       1\n",
       "89       1\n",
       "90       1\n",
       "91       1\n",
       "92       1\n",
       "93       1\n",
       "94       1\n",
       "95       1\n",
       "96       1\n",
       "97       1\n",
       "98       1\n",
       "99       1\n",
       "\n",
       "[99 rows x 1 columns]"
      ]
     },
     "execution_count": 65,
     "metadata": {},
     "output_type": "execute_result"
    }
   ],
   "source": []
  },
  {
   "cell_type": "code",
   "execution_count": null,
   "metadata": {
    "collapsed": true
   },
   "outputs": [],
   "source": []
  }
 ],
 "metadata": {
  "anaconda-cloud": {},
  "kernelspec": {
   "display_name": "Python [default]",
   "language": "python",
   "name": "python3"
  },
  "language_info": {
   "codemirror_mode": {
    "name": "ipython",
    "version": 3
   },
   "file_extension": ".py",
   "mimetype": "text/x-python",
   "name": "python",
   "nbconvert_exporter": "python",
   "pygments_lexer": "ipython3",
   "version": "3.5.2"
  }
 },
 "nbformat": 4,
 "nbformat_minor": 1
}
