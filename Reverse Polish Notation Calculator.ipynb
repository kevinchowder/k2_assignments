{
 "cells": [
  {
   "cell_type": "code",
   "execution_count": 3,
   "metadata": {
    "collapsed": false
   },
   "outputs": [
    {
     "name": "stdout",
     "output_type": "stream",
     "text": [
      "Type your equation, separated by spaces: 1 1 +\n",
      "Result:  2.0\n"
     ]
    }
   ],
   "source": [
    "import math\n",
    "import operator\n",
    "\n",
    "operations = {'+':operator.add, ## From Ty\n",
    "       '-':operator.sub,\n",
    "       '*':operator.mul,\n",
    "       '/':operator.truediv,\n",
    "       '^':operator.pow,\n",
    "       'sin':math.sin,\n",
    "       'tan':math.tan,\n",
    "       'cos':math.cos,\n",
    "       'pi':math.pi}\n",
    "\n",
    "def is_number(s):\n",
    "    \"\"\"returns True if string is a number/can be a float\"\"\"\n",
    "    try:\n",
    "        float(s)\n",
    "        return True\n",
    "    except ValueError:\n",
    "        pass\n",
    "\n",
    "def inputinfix():\n",
    "    \"\"\"as user inputs the equation, saves to a list called infix, delimited by spaces\n",
    "    returns user input string\"\"\"\n",
    "    infix = input('Type your equation, separated by spaces: ').split(' ')\n",
    "    return infix\n",
    "\n",
    "def evaluate(infix):\n",
    "    \"\"\"runs through infix list and calculates result, follows algorithm \n",
    "    from https://en.wikipedia.org/wiki/Reverse_Polish_notation\"\"\"\n",
    "    stack = []\n",
    "    result = 0\n",
    "    \n",
    "    for token in infix: \n",
    "        if is_number(token):\n",
    "            stack.insert(0,float(token))\n",
    "            #print(\"successfully inserted:\",token)\n",
    "            #print(\"stack:\",stack)\n",
    "        else:\n",
    "            if len(stack) < 2: \n",
    "                print(\"User has not entered enough values\")\n",
    "                break\n",
    "            else:\n",
    "                if len(token) == 1: # if the operation is a non-trig function\n",
    "                    argument1 = stack[1]\n",
    "                    argument2 = stack[0]\n",
    "                    stack.pop(1)\n",
    "                    stack.pop(0)\n",
    "                    result = operations[token](argument1, argument2)\n",
    "                    stack.insert(0,result)\n",
    "                    #print(result)\n",
    "                    #print(stack)\n",
    "                else: # operation is a trig function\n",
    "                    argument1 = stack[0]\n",
    "                    stack.pop(0)\n",
    "                    result = operations[token](math.radians(argument1)) #needs argument in radians\n",
    "                    stack.insert(0, result)\n",
    "    return result\n",
    "\n",
    "## main execution\n",
    "print(\"Result: \", evaluate(inputinfix())) #print final result \n"
   ]
  },
  {
   "cell_type": "code",
   "execution_count": null,
   "metadata": {
    "collapsed": true
   },
   "outputs": [],
   "source": []
  }
 ],
 "metadata": {
  "anaconda-cloud": {},
  "kernelspec": {
   "display_name": "Python [default]",
   "language": "python",
   "name": "python3"
  },
  "language_info": {
   "codemirror_mode": {
    "name": "ipython",
    "version": 3
   },
   "file_extension": ".py",
   "mimetype": "text/x-python",
   "name": "python",
   "nbconvert_exporter": "python",
   "pygments_lexer": "ipython3",
   "version": "3.5.2"
  }
 },
 "nbformat": 4,
 "nbformat_minor": 1
}
