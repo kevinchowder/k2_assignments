{
 "cells": [
  {
   "cell_type": "markdown",
   "metadata": {},
   "source": [
    "# Titanic Data Set - Statistics Review\n",
    "\n",
    "[Variable Descriptions](https://www.kaggle.com/c/titanic/data)"
   ]
  },
  {
   "cell_type": "code",
   "execution_count": 132,
   "metadata": {
    "collapsed": false
   },
   "outputs": [
    {
     "data": {
      "text/plain": [
       "(891, 12)"
      ]
     },
     "execution_count": 132,
     "metadata": {},
     "output_type": "execute_result"
    }
   ],
   "source": [
    "import pandas as pd\n",
    "import matplotlib.pyplot as plt\n",
    "from scipy import stats\n",
    "import numpy as np\n",
    "%matplotlib inline\n",
    "\n",
    "alldata = pd.read_csv('Data/titanic.csv')\n",
    "alldata.shape"
   ]
  },
  {
   "cell_type": "markdown",
   "metadata": {},
   "source": [
    "**Describe the data. **\n",
    "- How big?\n",
    "- What are the columns and what do they mean?"
   ]
  },
  {
   "cell_type": "code",
   "execution_count": 44,
   "metadata": {
    "collapsed": false
   },
   "outputs": [
    {
     "data": {
      "text/plain": [
       "Index(['PassengerId', 'Survived', 'Pclass', 'Name', 'Sex', 'Age', 'SibSp',\n",
       "       'Parch', 'Ticket', 'Fare', 'Cabin', 'Embarked'],\n",
       "      dtype='object')"
      ]
     },
     "execution_count": 44,
     "metadata": {},
     "output_type": "execute_result"
    }
   ],
   "source": [
    "alldata.columns\n",
    "#891 rows, 12 columns\n",
    "# PassengerId = numerial key\n",
    "# Survival (0 = No; 1 = Yes)\n",
    "# pclass = Passenger Class (1 = 1st; 2 = 2nd; 3 = 3rd)\n",
    "# name            Name 'FIRSTNAME, LASTNAME'\n",
    "# sex             Sex \n",
    "# age             Age\n",
    "# sibsp           Number of Siblings/Spouses Aboard\n",
    "# parch           Number of Parents/Children Aboard\n",
    "# ticket          Ticket Number\n",
    "# fare            Passenger Fare\n",
    "# cabin           Cabin\n",
    "# embarked        Port of Embarkation (C = Cherbourg; Q = Queenstown; S = Southampton)\n"
   ]
  },
  {
   "cell_type": "markdown",
   "metadata": {},
   "source": [
    "**What’s the average age of:**\n",
    "\n",
    "- Any Titanic passenger\n",
    "- A survivor\n",
    "- A non-surviving first-class passenger\n",
    "- Male survivors older than 30 from anywhere but Queenstown"
   ]
  },
  {
   "cell_type": "code",
   "execution_count": 92,
   "metadata": {
    "collapsed": false
   },
   "outputs": [
    {
     "data": {
      "text/plain": [
       "Any Passenger                                29.699118\n",
       "Survivor                                     28.343690\n",
       "Non-surviving First-class                    43.695312\n",
       "Male survivor over 30 not from Queenstown    41.487805\n",
       "dtype: float64"
      ]
     },
     "execution_count": 92,
     "metadata": {},
     "output_type": "execute_result"
    }
   ],
   "source": [
    "#data = alldata.dropna()\n",
    "averageages = pd.Series([alldata['Age'].mean(),\n",
    "                        alldata[alldata['Survived']==1]['Age'].mean(),\n",
    "                        alldata[(alldata['Pclass']==1) & (alldata['Survived']==0)]['Age'].mean(),\n",
    "                        alldata[\n",
    "        (alldata['Sex']=='male') & (alldata['Survived']==1) &(alldata['Embarked']!='Q') &\n",
    "        (alldata['Age']>30)]['Age'].mean()]\n",
    "                        )\n",
    "averageages.index = ['Any Passenger',\n",
    "                     'Survivor',\n",
    "                     'Non-surviving First-class',\n",
    "                     'Male survivor over 30 not from Queenstown']\n",
    "averageages\n"
   ]
  },
  {
   "cell_type": "markdown",
   "metadata": {},
   "source": [
    "**For the groups from the previous task, how far (in years) are the average ages from the median ages?**"
   ]
  },
  {
   "cell_type": "code",
   "execution_count": 93,
   "metadata": {
    "collapsed": false
   },
   "outputs": [
    {
     "data": {
      "text/plain": [
       "Any Passenger                                1.699118\n",
       "Survivor                                     0.343690\n",
       "Non-surviving First-class                   -1.554688\n",
       "Male survivor over 30 not from Queenstown    3.487805\n",
       "dtype: float64"
      ]
     },
     "execution_count": 93,
     "metadata": {},
     "output_type": "execute_result"
    }
   ],
   "source": [
    "medianages = pd.Series([alldata['Age'].median(),\n",
    "                        alldata[alldata['Survived']==1]['Age'].median(),\n",
    "                        alldata[(alldata['Pclass']==1) & (alldata['Survived']==0)]['Age'].median(),\n",
    "                        alldata[\n",
    "        (alldata['Sex']=='male') & (alldata['Survived']==1) &(alldata['Embarked']!='Q') &\n",
    "        (alldata['Age']>30)]['Age'].median()])\n",
    "\n",
    "medianages.index = ['Any Passenger',\n",
    "                     'Survivor',\n",
    "                     'Non-surviving First-class',\n",
    "                     'Male survivor over 30 not from Queenstown']\n",
    "medianages\n",
    "\n",
    "difference_in_ages =  averageages - medianages\n",
    "difference_in_ages"
   ]
  },
  {
   "cell_type": "markdown",
   "metadata": {},
   "source": [
    "**What’s the most common:**\n",
    "- Passenger class\n",
    "- Port of Embarkation\n",
    "- Number of siblings or spouses aboard for survivors"
   ]
  },
  {
   "cell_type": "code",
   "execution_count": 68,
   "metadata": {
    "collapsed": false
   },
   "outputs": [
    {
     "data": {
      "text/plain": [
       "3    491\n",
       "1    216\n",
       "2    184\n",
       "Name: Pclass, dtype: int64"
      ]
     },
     "execution_count": 68,
     "metadata": {},
     "output_type": "execute_result"
    }
   ],
   "source": [
    "alldata['Pclass'].value_counts()"
   ]
  },
  {
   "cell_type": "markdown",
   "metadata": {},
   "source": [
    "# 3rd class is most common"
   ]
  },
  {
   "cell_type": "code",
   "execution_count": 57,
   "metadata": {
    "collapsed": false
   },
   "outputs": [
    {
     "data": {
      "text/plain": [
       "S    644\n",
       "C    168\n",
       "Q     77\n",
       "Name: Embarked, dtype: int64"
      ]
     },
     "execution_count": 57,
     "metadata": {},
     "output_type": "execute_result"
    }
   ],
   "source": [
    "alldata['Embarked'].value_counts()"
   ]
  },
  {
   "cell_type": "markdown",
   "metadata": {},
   "source": [
    "# Southampton is most common"
   ]
  },
  {
   "cell_type": "code",
   "execution_count": 56,
   "metadata": {
    "collapsed": false
   },
   "outputs": [
    {
     "data": {
      "text/plain": [
       "0    608\n",
       "1    209\n",
       "2     28\n",
       "4     18\n",
       "3     16\n",
       "8      7\n",
       "5      5\n",
       "Name: SibSp, dtype: int64"
      ]
     },
     "execution_count": 56,
     "metadata": {},
     "output_type": "execute_result"
    }
   ],
   "source": [
    "alldata['SibSp'].value_counts()"
   ]
  },
  {
   "cell_type": "markdown",
   "metadata": {},
   "source": [
    "# 0 is most common"
   ]
  },
  {
   "cell_type": "markdown",
   "metadata": {},
   "source": [
    "**Within what range of standard deviations from the mean (0-1, 1-2, 2-3) is the median ticket price? Is it above or below the mean?**"
   ]
  },
  {
   "cell_type": "code",
   "execution_count": 94,
   "metadata": {
    "collapsed": false
   },
   "outputs": [],
   "source": [
    "faredata = alldata['Fare']"
   ]
  },
  {
   "cell_type": "code",
   "execution_count": 95,
   "metadata": {
    "collapsed": false
   },
   "outputs": [
    {
     "data": {
      "text/plain": [
       "49.693428597180905"
      ]
     },
     "execution_count": 95,
     "metadata": {},
     "output_type": "execute_result"
    }
   ],
   "source": [
    "faredata.std()"
   ]
  },
  {
   "cell_type": "code",
   "execution_count": 97,
   "metadata": {
    "collapsed": false
   },
   "outputs": [
    {
     "data": {
      "text/plain": [
       "14.4542"
      ]
     },
     "execution_count": 97,
     "metadata": {},
     "output_type": "execute_result"
    }
   ],
   "source": [
    "faredata.median()"
   ]
  },
  {
   "cell_type": "code",
   "execution_count": 98,
   "metadata": {
    "collapsed": false
   },
   "outputs": [
    {
     "data": {
      "text/plain": [
       "32.2042079685746"
      ]
     },
     "execution_count": 98,
     "metadata": {},
     "output_type": "execute_result"
    }
   ],
   "source": [
    "faredata.mean()"
   ]
  },
  {
   "cell_type": "markdown",
   "metadata": {},
   "source": [
    "# 0-1"
   ]
  },
  {
   "cell_type": "markdown",
   "metadata": {},
   "source": [
    "**How much more expensive was the 90th percentile ticket than the 5th percentile ticket? Are they the same class?**"
   ]
  },
  {
   "cell_type": "code",
   "execution_count": 100,
   "metadata": {
    "collapsed": false
   },
   "outputs": [
    {
     "data": {
      "text/plain": [
       "70.7333"
      ]
     },
     "execution_count": 100,
     "metadata": {},
     "output_type": "execute_result"
    }
   ],
   "source": [
    "faredata.quantile(0.9)-faredata.quantile(0.05)"
   ]
  },
  {
   "cell_type": "code",
   "execution_count": 143,
   "metadata": {
    "collapsed": false
   },
   "outputs": [
    {
     "name": "stdout",
     "output_type": "stream",
     "text": [
      "3.0\n",
      "1.0\n"
     ]
    },
    {
     "name": "stderr",
     "output_type": "stream",
     "text": [
      "//anaconda/lib/python3.5/site-packages/numpy/lib/function_base.py:3834: RuntimeWarning: Invalid value encountered in percentile\n",
      "  RuntimeWarning)\n"
     ]
    }
   ],
   "source": [
    "sortedfaredata = alldata.sort_values(['Fare'])\n",
    "print(sortedfaredata.quantile(0.9)['Pclass'])\n",
    "print(sortedfaredata.quantile(0.05)['Pclass'])"
   ]
  },
  {
   "cell_type": "markdown",
   "metadata": {},
   "source": [
    "**The highest average ticket price was paid by passengers from which port? Null ports don’t count.**"
   ]
  },
  {
   "cell_type": "code",
   "execution_count": 134,
   "metadata": {
    "collapsed": false
   },
   "outputs": [
    {
     "data": {
      "text/plain": [
       "Embarked\n",
       "C    59.954144\n",
       "Q    13.276030\n",
       "S    27.079812\n",
       "Name: Fare, dtype: float64"
      ]
     },
     "execution_count": 134,
     "metadata": {},
     "output_type": "execute_result"
    }
   ],
   "source": [
    "pd.pivot_table(alldata,\n",
    "    values= 'Fare',\n",
    "    columns=['Embarked'])"
   ]
  },
  {
   "cell_type": "markdown",
   "metadata": {},
   "source": [
    "# Cherbourg"
   ]
  },
  {
   "cell_type": "markdown",
   "metadata": {},
   "source": [
    "**What is the most common passenger class for each port?**"
   ]
  },
  {
   "cell_type": "code",
   "execution_count": 135,
   "metadata": {
    "collapsed": false
   },
   "outputs": [
    {
     "data": {
      "text/plain": [
       "Embarked\n",
       "C     ([1], [85])\n",
       "Q     ([3], [72])\n",
       "S    ([3], [353])\n",
       "Name: Pclass, dtype: object"
      ]
     },
     "execution_count": 135,
     "metadata": {},
     "output_type": "execute_result"
    }
   ],
   "source": [
    "pd.pivot_table(alldata,\n",
    "               aggfunc= stats.mode,\n",
    "               values='Pclass',\n",
    "               columns=['Embarked'])"
   ]
  },
  {
   "cell_type": "markdown",
   "metadata": {},
   "source": [
    "Queenstown - 3\n",
    "Southampton - 3\n",
    "Cherbourg - 1"
   ]
  },
  {
   "cell_type": "markdown",
   "metadata": {},
   "source": [
    "**What fraction of surviving 1st-class males paid lower than double the overall median ticket price?**"
   ]
  },
  {
   "cell_type": "code",
   "execution_count": 136,
   "metadata": {
    "collapsed": false
   },
   "outputs": [
    {
     "data": {
      "text/plain": [
       "0.24444444444444444"
      ]
     },
     "execution_count": 136,
     "metadata": {},
     "output_type": "execute_result"
    }
   ],
   "source": [
    "medianprice = faredata.median()\n",
    "surviving_firstclass_males = alldata[(alldata['Pclass']==1) & \n",
    "                                     (alldata['Sex']=='male') & \n",
    "                                     (alldata['Survived']==1)]\n",
    "paidlower = surviving_firstclass_males[surviving_firstclass_males['Fare'] < (2*medianprice)]\n",
    "len(paidlower)/len(surviving_firstclass_males)"
   ]
  },
  {
   "cell_type": "markdown",
   "metadata": {},
   "source": [
    "**How much older/younger was the average surviving passenger with family members than the average non-surviving passenger without them?**"
   ]
  },
  {
   "cell_type": "code",
   "execution_count": 141,
   "metadata": {
    "collapsed": false
   },
   "outputs": [
    {
     "data": {
      "text/plain": [
       "-6.888171076642337"
      ]
     },
     "execution_count": 141,
     "metadata": {},
     "output_type": "execute_result"
    }
   ],
   "source": [
    "surviving_with_family = alldata[\n",
    "    (alldata['Survived']==1)&\n",
    "    ((alldata['SibSp']>0)|(alldata['Parch']>0))]\n",
    "non_surviving_without_family = alldata[\n",
    "    (alldata['Survived']==0)&\n",
    "    (alldata['SibSp']==0)&(alldata['Parch']==0)]\n",
    "surviving_with_family['Age'].mean() - non_surviving_without_family['Age'].mean()"
   ]
  },
  {
   "cell_type": "markdown",
   "metadata": {},
   "source": [
    "**Display the relationship (i.e. make a plot) between survival rate and the quantile of the ticket price for 20 integer quantiles.**\n",
    "- To be clearer, what I want is for you to specify 20 quantiles, and for each of those quantiles divide the number of survivors in that quantile by the total number of people in that quantile. That’ll give you the survival rate in that quantile.\n",
    "- Then plot a line of the survival rate against the ticket fare quantiles.\n",
    "- Make sure you label your axes."
   ]
  },
  {
   "cell_type": "code",
   "execution_count": 158,
   "metadata": {
    "collapsed": false
   },
   "outputs": [
    {
     "data": {
      "text/plain": [
       "<function matplotlib.pyplot.show>"
      ]
     },
     "execution_count": 158,
     "metadata": {},
     "output_type": "execute_result"
    },
    {
     "data": {
      "image/png": "[encoded data removed]",
      "text/plain": [
       "<matplotlib.figure.Figure at 0x119412198>"
      ]
     },
     "metadata": {},
     "output_type": "display_data"
    }
   ],
   "source": [
    "import math\n",
    "\n",
    "n_quantiles = 20\n",
    "n_passengers = len(sortedfaredata)\n",
    "survival_rates = []\n",
    "ticket_prices = []\n",
    "len_quantile = math.ceil(n_passengers / n_quantiles) \n",
    "#Return the ceiling of x as a float, the smallest integer value greater than or equal to x.\n",
    "\n",
    "for i in range(0,n_passengers,len_quantile):\n",
    "    #get number of survivors in quantile\n",
    "    end = (i + len_quantile -1) if (i + len_quantile) < n_passengers else (n_passengers - 1)\n",
    "    quantile = sortedfaredata[i:end]\n",
    "    n_survived = len(quantile[(quantile['Survived']==1)])\n",
    "    survival_rates.append(n_survived / len_quantile)\n",
    "    ticket_prices.append(sortedfaredata.iloc[i]['Fare'])\n",
    "    \n",
    "plt.plot(ticket_prices,survival_rates)\n",
    "plt.xlabel('Ticket Prices')\n",
    "plt.ylabel('Survival Rate')\n",
    "plt.show\n",
    "    \n",
    "    \n"
   ]
  },
  {
   "cell_type": "markdown",
   "metadata": {},
   "source": [
    "**For each of the following characteristics, find the median in the data:**\n",
    "- Age\n",
    "- Ticket price\n",
    "- Siblings/spouses\n",
    "- Parents/children"
   ]
  },
  {
   "cell_type": "code",
   "execution_count": 160,
   "metadata": {
    "collapsed": false
   },
   "outputs": [
    {
     "data": {
      "text/plain": [
       "Age      28.0000\n",
       "Fare     14.4542\n",
       "SibSp     0.0000\n",
       "Parch     0.0000\n",
       "dtype: float64"
      ]
     },
     "execution_count": 160,
     "metadata": {},
     "output_type": "execute_result"
    }
   ],
   "source": [
    "medianlist = pd.Series([alldata['Age'].median(),\n",
    "                        alldata['Fare'].median(),\n",
    "                        alldata['SibSp'].median(),\n",
    "                        alldata['Parch'].median()])\n",
    "\n",
    "medianlist.index = ['Age',\n",
    "                     'Fare',\n",
    "                     'SibSp',\n",
    "                     'Parch']\n",
    "medianlist"
   ]
  },
  {
   "cell_type": "markdown",
   "metadata": {},
   "source": [
    "**If you were to use these medians to draw numerical boundaries separating survivors from non-survivors, which of these characteristics would be the best choice and why?**"
   ]
  },
  {
   "cell_type": "code",
   "execution_count": 184,
   "metadata": {
    "collapsed": false
   },
   "outputs": [
    {
     "data": {
      "text/html": [
       "<div>\n",
       "<table border=\"1\" class=\"dataframe\">\n",
       "  <thead>\n",
       "    <tr style=\"text-align: right;\">\n",
       "      <th></th>\n",
       "      <th>Survived at/below med</th>\n",
       "      <th>Survive above med</th>\n",
       "      <th>diff</th>\n",
       "    </tr>\n",
       "  </thead>\n",
       "  <tbody>\n",
       "    <tr>\n",
       "      <th>Age</th>\n",
       "      <td>0.418398</td>\n",
       "      <td>0.403409</td>\n",
       "      <td>-0.014989</td>\n",
       "    </tr>\n",
       "    <tr>\n",
       "      <th>Fare</th>\n",
       "      <td>0.252273</td>\n",
       "      <td>0.518018</td>\n",
       "      <td>0.265745</td>\n",
       "    </tr>\n",
       "    <tr>\n",
       "      <th>SibSp</th>\n",
       "      <td>0.345395</td>\n",
       "      <td>0.466431</td>\n",
       "      <td>0.121036</td>\n",
       "    </tr>\n",
       "    <tr>\n",
       "      <th>Parch</th>\n",
       "      <td>0.343658</td>\n",
       "      <td>0.511737</td>\n",
       "      <td>0.168079</td>\n",
       "    </tr>\n",
       "  </tbody>\n",
       "</table>\n",
       "</div>"
      ],
      "text/plain": [
       "       Survived at/below med  Survive above med      diff\n",
       "Age                 0.418398           0.403409 -0.014989\n",
       "Fare                0.252273           0.518018  0.265745\n",
       "SibSp               0.345395           0.466431  0.121036\n",
       "Parch               0.343658           0.511737  0.168079"
      ]
     },
     "execution_count": 184,
     "metadata": {},
     "output_type": "execute_result"
    }
   ],
   "source": [
    "def calculate_survival_ratio(series):\n",
    "    return len(series[(series['Survived']==1)])/len(series)\n",
    "\n",
    "below_at_med = pd.Series(name='Survived at/below med')\n",
    "above_med = pd.Series(name='Survive above med')\n",
    "\n",
    "for index, item in medianlist.iteritems():\n",
    "    if medianlist[index]==0:\n",
    "        below_at_med[index]=calculate_survival_ratio(alldata[(alldata[index]==medianlist[index])])\n",
    "    else:\n",
    "        below_at_med[index]=calculate_survival_ratio(alldata[(alldata[index]<medianlist[index])])\n",
    "    above_med[index]=calculate_survival_ratio(alldata[(alldata[index]>medianlist[index])])\n",
    "\n",
    "survivors = pd.DataFrame([below_at_med,above_med],columns =['Age','Fare','SibSp','Parch']).transpose()\n",
    "difference = above_med - below_at_med\n",
    "survivors['diff']=difference\n",
    "survivors\n",
    "    \n",
    "\n",
    "\n",
    "\n"
   ]
  },
  {
   "cell_type": "markdown",
   "metadata": {},
   "source": [
    "## Fare would draw the largest gap between the two groups of survivors/non-survivors"
   ]
  },
  {
   "cell_type": "markdown",
   "metadata": {},
   "source": [
    "**Plot the distribution of passenger ages. Choose visually-meaningful bin sizes and label your axes.**"
   ]
  },
  {
   "cell_type": "code",
   "execution_count": 200,
   "metadata": {
    "collapsed": false
   },
   "outputs": [
    {
     "data": {
      "text/plain": [
       "<matplotlib.axes._subplots.AxesSubplot at 0x11d8ca860>"
      ]
     },
     "execution_count": 200,
     "metadata": {},
     "output_type": "execute_result"
    },
    {
     "data": {
      "image/png": "[encoded data removed]",
      "text/plain": [
       "<matplotlib.figure.Figure at 0x11dbaf860>"
      ]
     },
     "metadata": {},
     "output_type": "display_data"
    }
   ],
   "source": [
    "alldata['Age'].plot.hist(bins=75)"
   ]
  },
  {
   "cell_type": "markdown",
   "metadata": {},
   "source": [
    "**Find the probability that:**\n",
    "- A passenger survived\n",
    "- A passenger was male\n",
    "- A passenger was female and had at least one sibling or spouse on board\n",
    "- A survivor was from Cherbourg\n",
    "- A passenger was less than 10 years old"
   ]
  },
  {
   "cell_type": "code",
   "execution_count": 202,
   "metadata": {
    "collapsed": false
   },
   "outputs": [
    {
     "data": {
      "text/plain": [
       "Survived                         0.383838\n",
       "Male                             0.647587\n",
       "Female with sibling or spouse    0.157127\n",
       "Cherbourg                        0.188552\n",
       "Less than 10                     0.069585\n",
       "Name: Probability, dtype: float64"
      ]
     },
     "execution_count": 202,
     "metadata": {},
     "output_type": "execute_result"
    }
   ],
   "source": [
    "def calculate_probability(condition):\n",
    "    return (len(alldata[condition])/len(alldata))\n",
    "\n",
    "probability = pd.Series(name='Probability')\n",
    "\n",
    "probability['Survived'] = calculate_probability(alldata['Survived']==1)\n",
    "probability['Male'] = calculate_probability(alldata['Sex']=='male')\n",
    "probability['Female with sibling or spouse'] = calculate_probability(\n",
    "    (alldata['Sex']=='female') & (alldata['SibSp']>0))\n",
    "probability['Cherbourg'] = calculate_probability(alldata['Embarked']=='C')\n",
    "probability['Less than 10'] = calculate_probability(alldata['Age']<10)\n",
    "\n",
    "probability"
   ]
  },
  {
   "cell_type": "markdown",
   "metadata": {},
   "source": [
    "**Knowing nothing else about the passengers aside from the survival rate of the population (see question above), if I choose 100 passengers at random from the passenger list, what's the probability that exactly 42 passengers survive?**"
   ]
  },
  {
   "cell_type": "code",
   "execution_count": 206,
   "metadata": {
    "collapsed": false
   },
   "outputs": [
    {
     "data": {
      "text/plain": [
       "0.061330411815167886"
      ]
     },
     "execution_count": 206,
     "metadata": {},
     "output_type": "execute_result"
    }
   ],
   "source": [
    "import scipy.stats as stats\n",
    "\n",
    "stats.binom.pmf(k=42,n=100,p=probability['Survived'])"
   ]
  },
  {
   "cell_type": "markdown",
   "metadata": {},
   "source": [
    "**What’s the probability that at least 42 of those 100 passengers survive?**"
   ]
  },
  {
   "cell_type": "code",
   "execution_count": 207,
   "metadata": {
    "collapsed": false
   },
   "outputs": [
    {
     "data": {
      "text/plain": [
       "0.25940724207261701"
      ]
     },
     "execution_count": 207,
     "metadata": {},
     "output_type": "execute_result"
    }
   ],
   "source": [
    "1 - stats.binom.cdf(k=41,n=100,p=probability['Survived']) #at least 42"
   ]
  },
  {
   "cell_type": "markdown",
   "metadata": {},
   "source": [
    "**Is there a statistically significant difference between:**\n",
    "- The ages of male and female survivors?\n",
    "- The fares paid by passengers from Queenstown and the passengers from Cherbourg?\n",
    "\n",
    "**If so, at what level? If not, how do you know?**"
   ]
  },
  {
   "cell_type": "code",
   "execution_count": 211,
   "metadata": {
    "collapsed": false
   },
   "outputs": [
    {
     "data": {
      "text/plain": [
       "Ttest_indResult(statistic=-0.79089662277024664, pvalue=0.43018823932007377)"
      ]
     },
     "execution_count": 211,
     "metadata": {},
     "output_type": "execute_result"
    }
   ],
   "source": [
    "agedata = alldata.dropna(subset=['Age'])\n",
    "male_survivors = agedata[(agedata['Sex']=='male')&(agedata['Survived']==1)]['Age']\n",
    "female_survivors = agedata[(agedata['Sex']=='female')&(agedata['Survived']==1)]['Age']\n",
    "\n",
    "stats.ttest_ind(a=male_survivors,\n",
    "                b=female_survivors,\n",
    "                equal_var=False) "
   ]
  },
  {
   "cell_type": "markdown",
   "metadata": {},
   "source": [
    "Large pvalue, will not be significant at 99% CI"
   ]
  },
  {
   "cell_type": "code",
   "execution_count": 212,
   "metadata": {
    "collapsed": false
   },
   "outputs": [
    {
     "data": {
      "text/plain": [
       "Ttest_indResult(statistic=-6.9951971047186809, pvalue=4.5792033919567422e-11)"
      ]
     },
     "execution_count": 212,
     "metadata": {},
     "output_type": "execute_result"
    }
   ],
   "source": [
    "fares = alldata.dropna(subset=['Fare'])\n",
    "queenstown_fares = fares[fares['Embarked']=='Q']['Fare']\n",
    "cherbourg_fares = fares[fares['Embarked']=='C']['Fare']\n",
    "\n",
    "stats.ttest_ind(a=queenstown_fares,\n",
    "                b=cherbourg_fares,\n",
    "                equal_var=False) "
   ]
  },
  {
   "cell_type": "markdown",
   "metadata": {},
   "source": [
    "P < 0.01, it will be significant <1% significace level, 99% confidence level"
   ]
  },
  {
   "cell_type": "markdown",
   "metadata": {},
   "source": [
    "**Accompany your p-values with histograms showing the distributions of both compared populations.**"
   ]
  },
  {
   "cell_type": "code",
   "execution_count": 229,
   "metadata": {
    "collapsed": false
   },
   "outputs": [
    {
     "data": {
      "text/plain": [
       "<matplotlib.text.Text at 0x11fcead68>"
      ]
     },
     "execution_count": 229,
     "metadata": {},
     "output_type": "execute_result"
    },
    {
     "data": {
      "image/png": "[encoded data removed]",
      "text/plain": [
       "<matplotlib.figure.Figure at 0x11fe74cf8>"
      ]
     },
     "metadata": {},
     "output_type": "display_data"
    }
   ],
   "source": [
    "bins = range(0,100,10)\n",
    "ax = female_survivors.hist(bins=bins, figsize = (8,4))\n",
    "ax = male_survivors.hist(bins=bins)\n",
    "ax.set_xlabel('Age')\n",
    "ax.set_ylabel('Number of passengers')"
   ]
  },
  {
   "cell_type": "code",
   "execution_count": 237,
   "metadata": {
    "collapsed": false
   },
   "outputs": [
    {
     "data": {
      "text/plain": [
       "<matplotlib.text.Text at 0x121c22860>"
      ]
     },
     "execution_count": 237,
     "metadata": {},
     "output_type": "execute_result"
    },
    {
     "data": {
      "image/png": "[encoded data removed]",
      "text/plain": [
       "<matplotlib.figure.Figure at 0x12151e550>"
      ]
     },
     "metadata": {},
     "output_type": "display_data"
    }
   ],
   "source": [
    "bins = range(0,600,10)\n",
    "ax = cherbourg_fares.hist(bins=bins, figsize = (8,4))\n",
    "ax = queenstown_fares.hist(bins=bins)\n",
    "ax.set_xlabel('Fare')\n",
    "ax.set_ylabel('Number of tickets')"
   ]
  },
  {
   "cell_type": "markdown",
   "metadata": {},
   "source": [
    "**Did survivors pay more for their tickets than those that did not? If so, to what significance level?**"
   ]
  },
  {
   "cell_type": "code",
   "execution_count": 240,
   "metadata": {
    "collapsed": false
   },
   "outputs": [
    {
     "name": "stdout",
     "output_type": "stream",
     "text": [
      "26.277520717093292\n"
     ]
    },
    {
     "data": {
      "text/plain": [
       "Ttest_indResult(statistic=6.8390992590852537, pvalue=2.6993323503141236e-11)"
      ]
     },
     "execution_count": 240,
     "metadata": {},
     "output_type": "execute_result"
    }
   ],
   "source": [
    "survivor_fares = fares[fares['Survived']==1]['Fare']\n",
    "dead_fares = fares[fares['Survived']==0]['Fare']\n",
    "print(survivor_fares.mean() - dead_fares.mean())\n",
    "stats.ttest_ind(a=survivor_fares,\n",
    "                b=dead_fares,\n",
    "                equal_var=False) "
   ]
  },
  {
   "cell_type": "markdown",
   "metadata": {},
   "source": [
    "Yes, <1% significance level, 99% confidence level"
   ]
  },
  {
   "cell_type": "markdown",
   "metadata": {},
   "source": [
    "**Did a given first-class passenger have less family members on board than a given third-class passenger? If so, to what significance level?**"
   ]
  },
  {
   "cell_type": "code",
   "execution_count": 241,
   "metadata": {
    "collapsed": false
   },
   "outputs": [
    {
     "name": "stdout",
     "output_type": "stream",
     "text": [
      "-0.2349984913630534\n"
     ]
    },
    {
     "data": {
      "text/plain": [
       "Ttest_indResult(statistic=-2.0799075748873195, pvalue=0.037907385748521927)"
      ]
     },
     "execution_count": 241,
     "metadata": {},
     "output_type": "execute_result"
    }
   ],
   "source": [
    "first_class = alldata[alldata['Pclass']==1]\n",
    "third_class = alldata[alldata['Pclass']==3]\n",
    "\n",
    "first_class_family = first_class['Parch'] + first_class['SibSp']\n",
    "third_class_family = third_class['Parch'] + third_class['SibSp']\n",
    "\n",
    "print(first_class_family.mean() - third_class_family.mean())\n",
    "stats.ttest_ind(a=first_class_family,\n",
    "                b=third_class_family,\n",
    "                equal_var=False) "
   ]
  },
  {
   "cell_type": "markdown",
   "metadata": {},
   "source": [
    "No, third class families were larger on average, at 95% CI"
   ]
  },
  {
   "cell_type": "code",
   "execution_count": null,
   "metadata": {
    "collapsed": true
   },
   "outputs": [],
   "source": []
  }
 ],
 "metadata": {
  "anaconda-cloud": {},
  "kernelspec": {
   "display_name": "Python [default]",
   "language": "python",
   "name": "python3"
  },
  "language_info": {
   "codemirror_mode": {
    "name": "ipython",
    "version": 3
   },
   "file_extension": ".py",
   "mimetype": "text/x-python",
   "name": "python",
   "nbconvert_exporter": "python",
   "pygments_lexer": "ipython3",
   "version": "3.5.2"
  }
 },
 "nbformat": 4,
 "nbformat_minor": 1
}
